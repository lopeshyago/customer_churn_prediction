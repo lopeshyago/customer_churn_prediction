{
 "cells": [
  {
   "cell_type": "markdown",
   "id": "1ded5ba9",
   "metadata": {},
   "source": [
    "# Customer Churn Prediction Dashboard & Presentation\n",
    "\n",
    "This notebook provides an interactive dashboard and visual presentation for the Telco Customer Churn project. It is designed to help recruiters and stakeholders quickly understand the business problem, data insights, model results, and actionable recommendations.\n",
    "\n",
    "**Outline:**\n",
    "1. Import Required Libraries\n",
    "2. Load and Prepare Data\n",
    "3. Interactive Visualizations with Plotly\n",
    "4. Build Dashboard with Dash\n",
    "5. Display Key Metrics and Charts in Notebook"
   ]
  },
  {
   "cell_type": "code",
   "execution_count": null,
   "id": "bbe49f22",
   "metadata": {},
   "outputs": [],
   "source": [
    "# Import Required Libraries\n",
    "import pandas as pd\n",
    "import numpy as np\n",
    "import plotly.express as px\n",
    "import plotly.graph_objects as go\n",
    "import seaborn as sns\n",
    "import matplotlib.pyplot as plt\n",
    "from sklearn.model_selection import train_test_split\n",
    "from sklearn.preprocessing import OneHotEncoder\n",
    "from sklearn.ensemble import RandomForestClassifier\n",
    "from sklearn.linear_model import LogisticRegression\n",
    "from sklearn.metrics import confusion_matrix, classification_report\n",
    "from imblearn.over_sampling import SMOTE\n",
    "# Dash for dashboard (optional, for interactive dashboard)\n",
    "from dash import Dash, dcc, html, Input, Output\n",
    "import dash_bootstrap_components as dbc"
   ]
  },
  {
   "cell_type": "code",
   "execution_count": null,
   "id": "90a4e57b",
   "metadata": {},
   "outputs": [],
   "source": [
    "# Load and preprocess the Telco Customer Churn dataset\n",
    "df = pd.read_csv('https://github.com/YBIFoundation/Dataset/raw/main/TelecomCustomerChurn.csv')\n",
    "df = df.drop('customerID', axis=1)\n",
    "df['TotalCharges'] = pd.to_numeric(df['TotalCharges'], errors='coerce')\n",
    "df['TotalCharges'] = df['TotalCharges'].fillna(df['TotalCharges'].median())\n",
    "df['Churn'] = df['Churn'].map({'No': 0, 'Yes': 1})\n",
    "display(df.head())"
   ]
  },
  {
   "cell_type": "code",
   "execution_count": null,
   "id": "82104b36",
   "metadata": {},
   "outputs": [],
   "source": [
    "# Visualize churn rate and class imbalance\n",
    "churn_counts = df['Churn'].value_counts()\n",
    "churn_rate = churn_counts[1] / churn_counts.sum()\n",
    "\n",
    "fig = px.pie(names=['No Churn', 'Churn'], values=churn_counts.values, title='Churn Rate')\n",
    "fig.show()\n",
    "\n",
    "print(f'Churn Rate: {churn_rate:.2%}')\n",
    "\n",
    "sns.countplot(x='Churn', data=df)\n",
    "plt.title('Churn Distribution')\n",
    "plt.show()"
   ]
  },
  {
   "cell_type": "code",
   "execution_count": null,
   "id": "01e83fbc",
   "metadata": {},
   "outputs": [],
   "source": [
    "# Visualize feature correlations and distributions\n",
    "numeric_features = df.select_dtypes(include=['float64', 'int64'])\n",
    "correlation = numeric_features.corr()\n",
    "plt.figure(figsize=(10,8))\n",
    "sns.heatmap(correlation, annot=True, cmap='coolwarm')\n",
    "plt.title('Correlation Heatmap (Numeric Features)')\n",
    "plt.show()\n",
    "\n",
    "# Distribution of tenure and monthly charges by churn\n",
    "fig1 = px.histogram(df, x='tenure', color='Churn', barmode='overlay', title='Tenure Distribution by Churn')\n",
    "fig1.show()\n",
    "fig2 = px.histogram(df, x='MonthlyCharges', color='Churn', barmode='overlay', title='Monthly Charges Distribution by Churn')\n",
    "fig2.show()"
   ]
  },
  {
   "cell_type": "code",
   "execution_count": null,
   "id": "a096d11c",
   "metadata": {},
   "outputs": [],
   "source": [
    "# Encode categorical features, split data, balance with SMOTE, and train models\n",
    "from sklearn.compose import ColumnTransformer\n",
    "from sklearn.pipeline import Pipeline\n",
    "from sklearn.impute import SimpleImputer\n",
    "\n",
    "X = df.drop('Churn', axis=1)\n",
    "y = df['Churn']\n",
    "categorical_cols = X.select_dtypes(include=['object']).columns.tolist()\n",
    "preprocessor = ColumnTransformer([\n",
    "    ('cat', OneHotEncoder(drop='first'), categorical_cols),\n",
    "    ('num', SimpleImputer(strategy='median'), X.select_dtypes(include=['float64', 'int64']).columns.tolist())\n",
    "])\n",
    "X_train, X_test, y_train, y_test = train_test_split(X, y, test_size=0.2, random_state=42, stratify=y)\n",
    "smote = SMOTE(random_state=42)\n",
    "X_train_enc = preprocessor.fit_transform(X_train)\n",
    "X_test_enc = preprocessor.transform(X_test)\n",
    "X_train_bal, y_train_bal = smote.fit_resample(X_train_enc, y_train)\n",
    "lr = LogisticRegression(max_iter=1000)\n",
    "lr.fit(X_train_bal, y_train_bal)\n",
    "rf = RandomForestClassifier(n_estimators=100, random_state=42)\n",
    "rf.fit(X_train_bal, y_train_bal)"
   ]
  },
  {
   "cell_type": "code",
   "execution_count": null,
   "id": "4e1a26ff",
   "metadata": {},
   "outputs": [],
   "source": [
    "# Evaluate models: confusion matrix, classification report, and feature importances\n",
    "from sklearn.metrics import ConfusionMatrixDisplay\n",
    "\n",
    "y_pred_lr = lr.predict(X_test_enc)\n",
    "y_pred_rf = rf.predict(X_test_enc)\n",
    "\n",
    "print('Logistic Regression Results:')\n",
    "ConfusionMatrixDisplay(confusion_matrix(y_test, y_pred_lr)).plot()\n",
    "plt.title('Confusion Matrix - Logistic Regression')\n",
    "plt.show()\n",
    "print(classification_report(y_test, y_pred_lr))\n",
    "\n",
    "print('Random Forest Results:')\n",
    "ConfusionMatrixDisplay(confusion_matrix(y_test, y_pred_rf)).plot()\n",
    "plt.title('Confusion Matrix - Random Forest')\n",
    "plt.show()\n",
    "print(classification_report(y_test, y_pred_rf))\n",
    "\n",
    "importances = rf.feature_importances_\n",
    "feature_names = preprocessor.get_feature_names_out()\n",
    "feat_imp = pd.Series(importances, index=feature_names).sort_values(ascending=False)\n",
    "fig = px.bar(feat_imp.head(10), title='Top 10 Feature Importances (Random Forest)')\n",
    "fig.show()"
   ]
  },
  {
   "cell_type": "markdown",
   "id": "2f1fa7a7",
   "metadata": {},
   "source": [
    "## Business Recommendations & Conclusion\n",
    "\n",
    "**Key Insights:**\n",
    "- Customers with month-to-month contracts and manual/electronic check payments are at highest risk of churn.\n",
    "- Tenure and monthly charges are strong predictors of churn.\n",
    "\n",
    "**Recommendations:**\n",
    "1. Target month-to-month contract customers with loyalty programs or incentives for longer-term contracts.\n",
    "2. Encourage customers to switch from manual/electronic check payments to automatic payments or credit cards.\n",
    "3. Engage new customers early with onboarding and retention campaigns.\n",
    "\n",
    "**Conclusion:**\n",
    "The machine learning models built here help identify high-risk customers, enabling the company to reduce churn and save on acquisition costs. This dashboard provides a clear, interactive view of the data and model results for recruiters and stakeholders."
   ]
  },
  {
   "cell_type": "markdown",
   "id": "d23fceeb",
   "metadata": {},
   "source": [
    "## Streamlit Dashboard\n",
    "\n",
    "An interactive dashboard is available for this project, built with Streamlit. It allows recruiters and stakeholders to explore the data, model results, and business recommendations interactively.\n",
    "\n",
    "**To run the dashboard:**\n",
    "```powershell\n",
    "streamlit run churn_streamlit_dashboard.py\n",
    "```\n",
    "The dashboard will open in your browser at http://localhost:8501"
   ]
  },
  {
   "cell_type": "markdown",
   "id": "5b50c371",
   "metadata": {},
   "source": [
    "## Installation\n",
    "\n",
    "Before running the dashboard or notebook, install all required dependencies:\n",
    "\n",
    "```powershell\n",
    "pip install -r requirements.txt\n",
    "```"
   ]
  }
 ],
 "metadata": {
  "language_info": {
   "name": "python"
  }
 },
 "nbformat": 4,
 "nbformat_minor": 5
}
